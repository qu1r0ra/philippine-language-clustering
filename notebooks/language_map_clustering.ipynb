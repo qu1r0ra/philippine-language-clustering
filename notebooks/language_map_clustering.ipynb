{
 "cells": [
  {
   "cell_type": "markdown",
   "id": "18939794",
   "metadata": {},
   "source": [
    "# Language Clustering Across Philippine Provinces\n",
    "\n",
    "This is a supplementary notebook that analyzes the distribution and relationships between different languages spoken across various provinces in the Philippines. The analysis includes:\n",
    "\n",
    "1. Language distribution mapping\n",
    "2. Provincial linguistic diversity analysis\n",
    "3. Language similarity computation\n",
    "4. Province-to-province linguistic relationships\n",
    "5. Hierarchical clustering of provinces based on language similarity\n",
    "\n",
    "## Data Sources\n",
    "- Language distribution data by province\n",
    "- Character-based language similarity matrix\n",
    "- Word-based language similarity matrix"
   ]
  },
  {
   "cell_type": "markdown",
   "id": "fab9bd93",
   "metadata": {},
   "source": [
    "Tagalog\n",
    "Cebuano\n",
    "Chavacano -> Zambageño-Chavacano\n",
    "Kapampangan\n",
    "Bikolano -> Bikol/Bicol\n",
    "Isnag -> Isneg/Isnag/Apayao\n",
    "Tausug\n",
    "Kalinga\n",
    "Sambal x\n",
    "Ilokano Ilocano\n",
    "Kankanaey\n",
    "Yakan\n",
    "Yami x\n",
    "Spanish x\n",
    "Ivatan\n",
    "Pangasinense -> Pangasinan/Panggalato"
   ]
  },
  {
   "cell_type": "code",
   "execution_count": 1,
   "id": "3706c089",
   "metadata": {},
   "outputs": [],
   "source": [
    "import pandas as pd"
   ]
  },
  {
   "cell_type": "markdown",
   "id": "091d5128",
   "metadata": {},
   "source": [
    "## Data Loading and Preprocessing\n",
    "\n",
    "This section loads the necessary data and performs initial preprocessing."
   ]
  },
  {
   "cell_type": "code",
   "execution_count": 2,
   "id": "d27033da",
   "metadata": {},
   "outputs": [],
   "source": [
    "data_map_df = pd.read_csv(\n",
    "    \"../data/language_map/data_map.csv\",\n",
    "    sep=\"\\t\",\n",
    "    na_values=[\"NA\", \"\"],\n",
    "    encoding=\"utf-16\",\n",
    "    engine=\"python\",\n",
    ")"
   ]
  },
  {
   "cell_type": "code",
   "execution_count": 3,
   "id": "84832223",
   "metadata": {},
   "outputs": [
    {
     "data": {
      "application/vnd.microsoft.datawrangler.viewer.v0+json": {
       "columns": [
        {
         "name": "index",
         "rawType": "int64",
         "type": "integer"
        },
        {
         "name": "Country",
         "rawType": "object",
         "type": "string"
        },
        {
         "name": "Primary language generally spoken at home",
         "rawType": "object",
         "type": "string"
        },
        {
         "name": "Province",
         "rawType": "object",
         "type": "string"
        },
        {
         "name": "2Nd Most Spoken Language At Home",
         "rawType": "object",
         "type": "string"
        },
        {
         "name": "3Rd Most Spoken Language At Home",
         "rawType": "object",
         "type": "string"
        },
        {
         "name": "Data source link",
         "rawType": "object",
         "type": "string"
        },
        {
         "name": "Data source release date",
         "rawType": "object",
         "type": "string"
        },
        {
         "name": "Data source",
         "rawType": "object",
         "type": "string"
        },
        {
         "name": "Primary language generally spoken at home2",
         "rawType": "object",
         "type": "string"
        },
        {
         "name": "Latitude (generated)",
         "rawType": "float64",
         "type": "float"
        },
        {
         "name": "Longitude (generated)",
         "rawType": "float64",
         "type": "float"
        },
        {
         "name": "# Of Languages Reported",
         "rawType": "int64",
         "type": "integer"
        },
        {
         "name": "2Nd Most Spoken Language At Home (# Of Households)",
         "rawType": "int64",
         "type": "integer"
        },
        {
         "name": "2Nd Most Spoken Language At Home (% Of Households)",
         "rawType": "float64",
         "type": "float"
        },
        {
         "name": "3Rd Most Spoken Language At Home (# Of Households)",
         "rawType": "int64",
         "type": "integer"
        },
        {
         "name": "3Rd Most Spoken Language At Home (% Of Households)",
         "rawType": "float64",
         "type": "float"
        },
        {
         "name": "Female literacy rate (10 years and over)",
         "rawType": "float64",
         "type": "float"
        },
        {
         "name": "Literacy rate (10 years and over)",
         "rawType": "float64",
         "type": "float"
        },
        {
         "name": "Male literacy rate (Males 10 years and over)",
         "rawType": "float64",
         "type": "float"
        },
        {
         "name": "Primary language generally spoken at home (# of households)",
         "rawType": "int64",
         "type": "integer"
        },
        {
         "name": "Primary language generally spoken at home (% of households)",
         "rawType": "float64",
         "type": "float"
        },
        {
         "name": "Total number of households",
         "rawType": "int64",
         "type": "integer"
        },
        {
         "name": "Total population",
         "rawType": "int64",
         "type": "integer"
        }
       ],
       "ref": "e11ea64d-d935-4b96-a69b-d50e8ee48112",
       "rows": [
        [
         "0",
         "Philippines",
         "Yakan",
         "Basilan",
         "Tausug",
         "Zambageño-Chavacano",
         "https://psa.gov.ph/tags/2010-census-population-and-housing",
         "7/31/2014",
         "2010 Census of Population and Housing - Philippines",
         "Yakan",
         "6.579",
         "122.0352",
         "40",
         "10893",
         "0.21130121",
         "3840",
         "0.074487896",
         "0.792255227",
         "0.800569717",
         "0.809058896",
         "26854",
         "0.520910925",
         "51552",
         "293204"
        ],
        [
         "1",
         "Philippines",
         "Waray",
         "Samar",
         "Bisaya/Binisaya",
         "Cebuano",
         "https://psa.gov.ph/tags/2010-census-population-and-housing",
         "7/31/2014",
         "2010 Census of Population and Housing - Philippines",
         "Waray",
         "11.7112",
         "125.1505",
         "18",
         "5352",
         "0.036678637",
         "3820",
         "0.026179446",
         "0.956018633",
         "0.941151365",
         "0.92724585",
         "135741",
         "0.930268099",
         "145916",
         "731669"
        ],
        [
         "2",
         "Philippines",
         "Waray",
         "Northern Samar",
         "Cebuano",
         "Other Local Dialects",
         "https://psa.gov.ph/tags/2010-census-population-and-housing",
         "7/31/2014",
         "2010 Census of Population and Housing - Philippines",
         "Waray",
         "12.3912",
         "124.822",
         "17",
         "2979",
         "0.026136164",
         "2410",
         "0.02114406",
         "0.964095159",
         "0.954691673",
         "0.945699268",
         "106353",
         "0.933084752",
         "113980",
         "587586"
        ],
        [
         "3",
         "Philippines",
         "Waray",
         "Leyte",
         "Bisaya/Binisaya",
         "Cebuano",
         "https://psa.gov.ph/tags/2010-census-population-and-housing",
         "7/31/2014",
         "2010 Census of Population and Housing - Philippines",
         "Waray",
         "10.8742",
         "124.8603",
         "26",
         "174930",
         "0.446450447",
         "22886",
         "0.058408877",
         "0.977121025",
         "0.97140682",
         "0.965941495",
         "191494",
         "0.488724529",
         "391824",
         "1782678"
        ],
        [
         "4",
         "Philippines",
         "Waray",
         "Eastern Samar",
         "Cebuano",
         "Tagalog",
         "https://psa.gov.ph/tags/2010-census-population-and-housing",
         "7/31/2014",
         "2010 Census of Population and Housing - Philippines",
         "Waray",
         "11.6937",
         "125.3813",
         "12",
         "297",
         "0.003298497",
         "294",
         "0.003265179",
         "0.976759586",
         "0.969308474",
         "0.962377246",
         "89182",
         "0.990459902",
         "90041",
         "427974"
        ]
       ],
       "shape": {
        "columns": 23,
        "rows": 5
       }
      },
      "text/html": [
       "<div>\n",
       "<style scoped>\n",
       "    .dataframe tbody tr th:only-of-type {\n",
       "        vertical-align: middle;\n",
       "    }\n",
       "\n",
       "    .dataframe tbody tr th {\n",
       "        vertical-align: top;\n",
       "    }\n",
       "\n",
       "    .dataframe thead th {\n",
       "        text-align: right;\n",
       "    }\n",
       "</style>\n",
       "<table border=\"1\" class=\"dataframe\">\n",
       "  <thead>\n",
       "    <tr style=\"text-align: right;\">\n",
       "      <th></th>\n",
       "      <th>Country</th>\n",
       "      <th>Primary language generally spoken at home</th>\n",
       "      <th>Province</th>\n",
       "      <th>2Nd Most Spoken Language At Home</th>\n",
       "      <th>3Rd Most Spoken Language At Home</th>\n",
       "      <th>Data source link</th>\n",
       "      <th>Data source release date</th>\n",
       "      <th>Data source</th>\n",
       "      <th>Primary language generally spoken at home2</th>\n",
       "      <th>Latitude (generated)</th>\n",
       "      <th>...</th>\n",
       "      <th>2Nd Most Spoken Language At Home (% Of Households)</th>\n",
       "      <th>3Rd Most Spoken Language At Home (# Of Households)</th>\n",
       "      <th>3Rd Most Spoken Language At Home (% Of Households)</th>\n",
       "      <th>Female literacy rate (10 years and over)</th>\n",
       "      <th>Literacy rate (10 years and over)</th>\n",
       "      <th>Male literacy rate (Males 10 years and over)</th>\n",
       "      <th>Primary language generally spoken at home (# of households)</th>\n",
       "      <th>Primary language generally spoken at home (% of households)</th>\n",
       "      <th>Total number of households</th>\n",
       "      <th>Total population</th>\n",
       "    </tr>\n",
       "  </thead>\n",
       "  <tbody>\n",
       "    <tr>\n",
       "      <th>0</th>\n",
       "      <td>Philippines</td>\n",
       "      <td>Yakan</td>\n",
       "      <td>Basilan</td>\n",
       "      <td>Tausug</td>\n",
       "      <td>Zambageño-Chavacano</td>\n",
       "      <td>https://psa.gov.ph/tags/2010-census-population...</td>\n",
       "      <td>7/31/2014</td>\n",
       "      <td>2010 Census of Population and Housing - Philip...</td>\n",
       "      <td>Yakan</td>\n",
       "      <td>6.5790</td>\n",
       "      <td>...</td>\n",
       "      <td>0.211301</td>\n",
       "      <td>3840</td>\n",
       "      <td>0.074488</td>\n",
       "      <td>0.792255</td>\n",
       "      <td>0.800570</td>\n",
       "      <td>0.809059</td>\n",
       "      <td>26854</td>\n",
       "      <td>0.520911</td>\n",
       "      <td>51552</td>\n",
       "      <td>293204</td>\n",
       "    </tr>\n",
       "    <tr>\n",
       "      <th>1</th>\n",
       "      <td>Philippines</td>\n",
       "      <td>Waray</td>\n",
       "      <td>Samar</td>\n",
       "      <td>Bisaya/Binisaya</td>\n",
       "      <td>Cebuano</td>\n",
       "      <td>https://psa.gov.ph/tags/2010-census-population...</td>\n",
       "      <td>7/31/2014</td>\n",
       "      <td>2010 Census of Population and Housing - Philip...</td>\n",
       "      <td>Waray</td>\n",
       "      <td>11.7112</td>\n",
       "      <td>...</td>\n",
       "      <td>0.036679</td>\n",
       "      <td>3820</td>\n",
       "      <td>0.026179</td>\n",
       "      <td>0.956019</td>\n",
       "      <td>0.941151</td>\n",
       "      <td>0.927246</td>\n",
       "      <td>135741</td>\n",
       "      <td>0.930268</td>\n",
       "      <td>145916</td>\n",
       "      <td>731669</td>\n",
       "    </tr>\n",
       "    <tr>\n",
       "      <th>2</th>\n",
       "      <td>Philippines</td>\n",
       "      <td>Waray</td>\n",
       "      <td>Northern Samar</td>\n",
       "      <td>Cebuano</td>\n",
       "      <td>Other Local Dialects</td>\n",
       "      <td>https://psa.gov.ph/tags/2010-census-population...</td>\n",
       "      <td>7/31/2014</td>\n",
       "      <td>2010 Census of Population and Housing - Philip...</td>\n",
       "      <td>Waray</td>\n",
       "      <td>12.3912</td>\n",
       "      <td>...</td>\n",
       "      <td>0.026136</td>\n",
       "      <td>2410</td>\n",
       "      <td>0.021144</td>\n",
       "      <td>0.964095</td>\n",
       "      <td>0.954692</td>\n",
       "      <td>0.945699</td>\n",
       "      <td>106353</td>\n",
       "      <td>0.933085</td>\n",
       "      <td>113980</td>\n",
       "      <td>587586</td>\n",
       "    </tr>\n",
       "    <tr>\n",
       "      <th>3</th>\n",
       "      <td>Philippines</td>\n",
       "      <td>Waray</td>\n",
       "      <td>Leyte</td>\n",
       "      <td>Bisaya/Binisaya</td>\n",
       "      <td>Cebuano</td>\n",
       "      <td>https://psa.gov.ph/tags/2010-census-population...</td>\n",
       "      <td>7/31/2014</td>\n",
       "      <td>2010 Census of Population and Housing - Philip...</td>\n",
       "      <td>Waray</td>\n",
       "      <td>10.8742</td>\n",
       "      <td>...</td>\n",
       "      <td>0.446450</td>\n",
       "      <td>22886</td>\n",
       "      <td>0.058409</td>\n",
       "      <td>0.977121</td>\n",
       "      <td>0.971407</td>\n",
       "      <td>0.965941</td>\n",
       "      <td>191494</td>\n",
       "      <td>0.488725</td>\n",
       "      <td>391824</td>\n",
       "      <td>1782678</td>\n",
       "    </tr>\n",
       "    <tr>\n",
       "      <th>4</th>\n",
       "      <td>Philippines</td>\n",
       "      <td>Waray</td>\n",
       "      <td>Eastern Samar</td>\n",
       "      <td>Cebuano</td>\n",
       "      <td>Tagalog</td>\n",
       "      <td>https://psa.gov.ph/tags/2010-census-population...</td>\n",
       "      <td>7/31/2014</td>\n",
       "      <td>2010 Census of Population and Housing - Philip...</td>\n",
       "      <td>Waray</td>\n",
       "      <td>11.6937</td>\n",
       "      <td>...</td>\n",
       "      <td>0.003298</td>\n",
       "      <td>294</td>\n",
       "      <td>0.003265</td>\n",
       "      <td>0.976760</td>\n",
       "      <td>0.969308</td>\n",
       "      <td>0.962377</td>\n",
       "      <td>89182</td>\n",
       "      <td>0.990460</td>\n",
       "      <td>90041</td>\n",
       "      <td>427974</td>\n",
       "    </tr>\n",
       "  </tbody>\n",
       "</table>\n",
       "<p>5 rows × 23 columns</p>\n",
       "</div>"
      ],
      "text/plain": [
       "       Country Primary language generally spoken at home        Province  \\\n",
       "0  Philippines                                     Yakan         Basilan   \n",
       "1  Philippines                                     Waray           Samar   \n",
       "2  Philippines                                     Waray  Northern Samar   \n",
       "3  Philippines                                     Waray           Leyte   \n",
       "4  Philippines                                     Waray   Eastern Samar   \n",
       "\n",
       "  2Nd Most Spoken Language At Home 3Rd Most Spoken Language At Home  \\\n",
       "0                           Tausug              Zambageño-Chavacano   \n",
       "1                  Bisaya/Binisaya                          Cebuano   \n",
       "2                          Cebuano             Other Local Dialects   \n",
       "3                  Bisaya/Binisaya                          Cebuano   \n",
       "4                          Cebuano                          Tagalog   \n",
       "\n",
       "                                    Data source link Data source release date  \\\n",
       "0  https://psa.gov.ph/tags/2010-census-population...                7/31/2014   \n",
       "1  https://psa.gov.ph/tags/2010-census-population...                7/31/2014   \n",
       "2  https://psa.gov.ph/tags/2010-census-population...                7/31/2014   \n",
       "3  https://psa.gov.ph/tags/2010-census-population...                7/31/2014   \n",
       "4  https://psa.gov.ph/tags/2010-census-population...                7/31/2014   \n",
       "\n",
       "                                         Data source  \\\n",
       "0  2010 Census of Population and Housing - Philip...   \n",
       "1  2010 Census of Population and Housing - Philip...   \n",
       "2  2010 Census of Population and Housing - Philip...   \n",
       "3  2010 Census of Population and Housing - Philip...   \n",
       "4  2010 Census of Population and Housing - Philip...   \n",
       "\n",
       "  Primary language generally spoken at home2  Latitude (generated)  ...  \\\n",
       "0                                      Yakan                6.5790  ...   \n",
       "1                                      Waray               11.7112  ...   \n",
       "2                                      Waray               12.3912  ...   \n",
       "3                                      Waray               10.8742  ...   \n",
       "4                                      Waray               11.6937  ...   \n",
       "\n",
       "   2Nd Most Spoken Language At Home (% Of Households)  \\\n",
       "0                                           0.211301    \n",
       "1                                           0.036679    \n",
       "2                                           0.026136    \n",
       "3                                           0.446450    \n",
       "4                                           0.003298    \n",
       "\n",
       "   3Rd Most Spoken Language At Home (# Of Households)  \\\n",
       "0                                               3840    \n",
       "1                                               3820    \n",
       "2                                               2410    \n",
       "3                                              22886    \n",
       "4                                                294    \n",
       "\n",
       "   3Rd Most Spoken Language At Home (% Of Households)  \\\n",
       "0                                           0.074488    \n",
       "1                                           0.026179    \n",
       "2                                           0.021144    \n",
       "3                                           0.058409    \n",
       "4                                           0.003265    \n",
       "\n",
       "   Female literacy rate (10 years and over)  \\\n",
       "0                                  0.792255   \n",
       "1                                  0.956019   \n",
       "2                                  0.964095   \n",
       "3                                  0.977121   \n",
       "4                                  0.976760   \n",
       "\n",
       "   Literacy rate (10 years and over)  \\\n",
       "0                           0.800570   \n",
       "1                           0.941151   \n",
       "2                           0.954692   \n",
       "3                           0.971407   \n",
       "4                           0.969308   \n",
       "\n",
       "   Male literacy rate (Males 10 years and over)  \\\n",
       "0                                      0.809059   \n",
       "1                                      0.927246   \n",
       "2                                      0.945699   \n",
       "3                                      0.965941   \n",
       "4                                      0.962377   \n",
       "\n",
       "   Primary language generally spoken at home (# of households)  \\\n",
       "0                                              26854             \n",
       "1                                             135741             \n",
       "2                                             106353             \n",
       "3                                             191494             \n",
       "4                                              89182             \n",
       "\n",
       "   Primary language generally spoken at home (% of households)  \\\n",
       "0                                           0.520911             \n",
       "1                                           0.930268             \n",
       "2                                           0.933085             \n",
       "3                                           0.488725             \n",
       "4                                           0.990460             \n",
       "\n",
       "   Total number of households  Total population  \n",
       "0                       51552            293204  \n",
       "1                      145916            731669  \n",
       "2                      113980            587586  \n",
       "3                      391824           1782678  \n",
       "4                       90041            427974  \n",
       "\n",
       "[5 rows x 23 columns]"
      ]
     },
     "execution_count": 3,
     "metadata": {},
     "output_type": "execute_result"
    }
   ],
   "source": [
    "data_map_df.head()"
   ]
  },
  {
   "cell_type": "code",
   "execution_count": 4,
   "id": "6ab69424",
   "metadata": {},
   "outputs": [
    {
     "name": "stdout",
     "output_type": "stream",
     "text": [
      "Index(['Country', 'Primary language generally spoken at home', 'Province',\n",
      "       '2Nd Most Spoken Language At Home', '3Rd Most Spoken Language At Home',\n",
      "       'Data source link', 'Data source release date', 'Data source',\n",
      "       'Primary language generally spoken at home2', 'Latitude (generated)',\n",
      "       'Longitude (generated)', '# Of Languages Reported',\n",
      "       '2Nd Most Spoken Language At Home (# Of Households)',\n",
      "       '2Nd Most Spoken Language At Home (% Of Households)',\n",
      "       '3Rd Most Spoken Language At Home (# Of Households)',\n",
      "       '3Rd Most Spoken Language At Home (% Of Households)',\n",
      "       'Female literacy rate (10 years and over)',\n",
      "       'Literacy rate (10 years and over)',\n",
      "       'Male literacy rate (Males 10 years and over)',\n",
      "       'Primary language generally spoken at home (# of households)',\n",
      "       'Primary language generally spoken at home (% of households)',\n",
      "       'Total number of households', 'Total population'],\n",
      "      dtype='object')\n"
     ]
    }
   ],
   "source": [
    "print(data_map_df.columns)"
   ]
  },
  {
   "cell_type": "code",
   "execution_count": 5,
   "id": "93c8278a",
   "metadata": {},
   "outputs": [
    {
     "name": "stdout",
     "output_type": "stream",
     "text": [
      "   Primary language generally spoken at home 2Nd Most Spoken Language At Home  \\\n",
      "78                                  Bikolano                          Tagalog   \n",
      "79                                  Bikolano                          Tagalog   \n",
      "80                                  Bikolano                          Tagalog   \n",
      "81                                  Bikolano                          Tagalog   \n",
      "82                                   Akeanon                          Tagalog   \n",
      "\n",
      "   3Rd Most Spoken Language At Home  \n",
      "78                  Bisaya/Binisaya  \n",
      "79                 American/English  \n",
      "80             Other Local Dialects  \n",
      "81                  Bisaya/Binisaya  \n",
      "82               Hiligaynon Ilonggo  \n"
     ]
    }
   ],
   "source": [
    "lang_map = {\n",
    "    \"Zambageño-Chavacano\": \"Chavacano\",\n",
    "    \"Bikol/Bicol\": \"Bikolano\",\n",
    "    \"Isneg/Isnag/Apayao\": \"Isnag\",\n",
    "    \"Pangasinan/Panggalato\": \"Pangasinense\",\n",
    "}\n",
    "\n",
    "cols = [\n",
    "    \"Primary language generally spoken at home\",\n",
    "    \"2Nd Most Spoken Language At Home\",\n",
    "    \"3Rd Most Spoken Language At Home\",\n",
    "]\n",
    "\n",
    "data_map_df[cols] = data_map_df[cols].replace(lang_map)\n",
    "\n",
    "print(data_map_df[cols].tail())"
   ]
  },
  {
   "cell_type": "code",
   "execution_count": 6,
   "id": "a2c80f05",
   "metadata": {},
   "outputs": [
    {
     "name": "stdout",
     "output_type": "stream",
     "text": [
      "Number of provinces where each language is spoken:\n"
     ]
    },
    {
     "data": {
      "application/vnd.microsoft.datawrangler.viewer.v0+json": {
       "columns": [
        {
         "name": "Language",
         "rawType": "object",
         "type": "string"
        },
        {
         "name": "Province",
         "rawType": "int64",
         "type": "integer"
        }
       ],
       "ref": "e421e662-c7c4-4928-8745-3a7cfb2fb835",
       "rows": [
        [
         "Bisaya/Binisaya",
         "45"
        ],
        [
         "Tagalog",
         "39"
        ],
        [
         "Cebuano",
         "31"
        ],
        [
         "Ilocano",
         "22"
        ],
        [
         "Hiligaynon Ilonggo",
         "13"
        ],
        [
         "Bikolano",
         "11"
        ],
        [
         "Other Local Dialects",
         "5"
        ],
        [
         "Waray",
         "5"
        ],
        [
         "Kankanaey",
         "4"
        ],
        [
         "Kapampangan",
         "4"
        ],
        [
         "Karay-a",
         "4"
        ],
        [
         "Maguindanao",
         "4"
        ],
        [
         "Tausug",
         "4"
        ],
        [
         "Chavacano",
         "3"
        ],
        [
         "Surigaonon",
         "3"
        ],
        [
         "Manobo",
         "2"
        ],
        [
         "Subanen/Subanon/Subanun",
         "2"
        ],
        [
         "Isnag",
         "2"
        ],
        [
         "Ibanag",
         "2"
        ],
        [
         "Boholano",
         "2"
        ]
       ],
       "shape": {
        "columns": 1,
        "rows": 20
       }
      },
      "text/plain": [
       "Language\n",
       "Bisaya/Binisaya            45\n",
       "Tagalog                    39\n",
       "Cebuano                    31\n",
       "Ilocano                    22\n",
       "Hiligaynon Ilonggo         13\n",
       "Bikolano                   11\n",
       "Other Local Dialects        5\n",
       "Waray                       5\n",
       "Kankanaey                   4\n",
       "Kapampangan                 4\n",
       "Karay-a                     4\n",
       "Maguindanao                 4\n",
       "Tausug                      4\n",
       "Chavacano                   3\n",
       "Surigaonon                  3\n",
       "Manobo                      2\n",
       "Subanen/Subanon/Subanun     2\n",
       "Isnag                       2\n",
       "Ibanag                      2\n",
       "Boholano                    2\n",
       "Name: Province, dtype: int64"
      ]
     },
     "metadata": {},
     "output_type": "display_data"
    }
   ],
   "source": [
    "# combine all language columns into a single long-form column for counting\n",
    "lang_cols = [\n",
    "    \"Primary language generally spoken at home\",\n",
    "    \"2Nd Most Spoken Language At Home\",\n",
    "    \"3Rd Most Spoken Language At Home\",\n",
    "]\n",
    "\n",
    "# melt into long format: each row = one (province, language, rank)\n",
    "lang_long = data_map_df.melt(\n",
    "    id_vars=[\"Province\"],\n",
    "    value_vars=lang_cols,\n",
    "    var_name=\"Language_Rank\",\n",
    "    value_name=\"Language\",\n",
    ")\n",
    "\n",
    "# count number of provinces where each language appears\n",
    "language_counts = (\n",
    "    lang_long.groupby(\"Language\")[\"Province\"].nunique().sort_values(ascending=False)\n",
    ")\n",
    "\n",
    "print(\"Number of provinces where each language is spoken:\")\n",
    "display(language_counts.head(20))"
   ]
  },
  {
   "cell_type": "markdown",
   "id": "aeb7b7bc",
   "metadata": {},
   "source": [
    "## Language Distribution Analysis\n",
    "\n",
    "This section analyzes the distribution of languages across provinces."
   ]
  },
  {
   "cell_type": "code",
   "execution_count": 7,
   "id": "7774120e",
   "metadata": {},
   "outputs": [
    {
     "name": "stdout",
     "output_type": "stream",
     "text": [
      "Provinces with highest linguistic diversity:\n"
     ]
    },
    {
     "data": {
      "application/vnd.microsoft.datawrangler.viewer.v0+json": {
       "columns": [
        {
         "name": "index",
         "rawType": "int64",
         "type": "integer"
        },
        {
         "name": "Province",
         "rawType": "object",
         "type": "string"
        },
        {
         "name": "# Of Languages Reported",
         "rawType": "int64",
         "type": "integer"
        }
       ],
       "ref": "a18016d9-98fa-491f-a80f-cb82ae2d629d",
       "rows": [
        [
         "15",
         "National Capital Region",
         "121"
        ],
        [
         "70",
         "Davao del Sur",
         "86"
        ],
        [
         "18",
         "Cavite",
         "83"
        ],
        [
         "53",
         "Cotabato",
         "82"
        ],
        [
         "11",
         "Palawan",
         "81"
        ],
        [
         "74",
         "Bukidnon",
         "77"
        ],
        [
         "49",
         "South Cotabato",
         "76"
        ],
        [
         "59",
         "Zamboanga del Sur",
         "74"
        ],
        [
         "41",
         "Isabela",
         "72"
        ],
        [
         "71",
         "Davao del Norte",
         "71"
        ],
        [
         "9",
         "Rizal",
         "70"
        ],
        [
         "26",
         "Pangasinan",
         "69"
        ],
        [
         "30",
         "Maguindanao",
         "69"
        ],
        [
         "34",
         "Pampanga",
         "64"
        ],
        [
         "48",
         "Sultan Kudarat",
         "62"
        ],
        [
         "45",
         "Benguet",
         "62"
        ],
        [
         "20",
         "Bulacan",
         "61"
        ],
        [
         "44",
         "Cagayan",
         "59"
        ],
        [
         "76",
         "Agusan del Sur",
         "58"
        ],
        [
         "65",
         "Misamis Oriental",
         "57"
        ]
       ],
       "shape": {
        "columns": 2,
        "rows": 20
       }
      },
      "text/html": [
       "<div>\n",
       "<style scoped>\n",
       "    .dataframe tbody tr th:only-of-type {\n",
       "        vertical-align: middle;\n",
       "    }\n",
       "\n",
       "    .dataframe tbody tr th {\n",
       "        vertical-align: top;\n",
       "    }\n",
       "\n",
       "    .dataframe thead th {\n",
       "        text-align: right;\n",
       "    }\n",
       "</style>\n",
       "<table border=\"1\" class=\"dataframe\">\n",
       "  <thead>\n",
       "    <tr style=\"text-align: right;\">\n",
       "      <th></th>\n",
       "      <th>Province</th>\n",
       "      <th># Of Languages Reported</th>\n",
       "    </tr>\n",
       "  </thead>\n",
       "  <tbody>\n",
       "    <tr>\n",
       "      <th>15</th>\n",
       "      <td>National Capital Region</td>\n",
       "      <td>121</td>\n",
       "    </tr>\n",
       "    <tr>\n",
       "      <th>70</th>\n",
       "      <td>Davao del Sur</td>\n",
       "      <td>86</td>\n",
       "    </tr>\n",
       "    <tr>\n",
       "      <th>18</th>\n",
       "      <td>Cavite</td>\n",
       "      <td>83</td>\n",
       "    </tr>\n",
       "    <tr>\n",
       "      <th>53</th>\n",
       "      <td>Cotabato</td>\n",
       "      <td>82</td>\n",
       "    </tr>\n",
       "    <tr>\n",
       "      <th>11</th>\n",
       "      <td>Palawan</td>\n",
       "      <td>81</td>\n",
       "    </tr>\n",
       "    <tr>\n",
       "      <th>74</th>\n",
       "      <td>Bukidnon</td>\n",
       "      <td>77</td>\n",
       "    </tr>\n",
       "    <tr>\n",
       "      <th>49</th>\n",
       "      <td>South Cotabato</td>\n",
       "      <td>76</td>\n",
       "    </tr>\n",
       "    <tr>\n",
       "      <th>59</th>\n",
       "      <td>Zamboanga del Sur</td>\n",
       "      <td>74</td>\n",
       "    </tr>\n",
       "    <tr>\n",
       "      <th>41</th>\n",
       "      <td>Isabela</td>\n",
       "      <td>72</td>\n",
       "    </tr>\n",
       "    <tr>\n",
       "      <th>71</th>\n",
       "      <td>Davao del Norte</td>\n",
       "      <td>71</td>\n",
       "    </tr>\n",
       "    <tr>\n",
       "      <th>9</th>\n",
       "      <td>Rizal</td>\n",
       "      <td>70</td>\n",
       "    </tr>\n",
       "    <tr>\n",
       "      <th>26</th>\n",
       "      <td>Pangasinan</td>\n",
       "      <td>69</td>\n",
       "    </tr>\n",
       "    <tr>\n",
       "      <th>30</th>\n",
       "      <td>Maguindanao</td>\n",
       "      <td>69</td>\n",
       "    </tr>\n",
       "    <tr>\n",
       "      <th>34</th>\n",
       "      <td>Pampanga</td>\n",
       "      <td>64</td>\n",
       "    </tr>\n",
       "    <tr>\n",
       "      <th>48</th>\n",
       "      <td>Sultan Kudarat</td>\n",
       "      <td>62</td>\n",
       "    </tr>\n",
       "    <tr>\n",
       "      <th>45</th>\n",
       "      <td>Benguet</td>\n",
       "      <td>62</td>\n",
       "    </tr>\n",
       "    <tr>\n",
       "      <th>20</th>\n",
       "      <td>Bulacan</td>\n",
       "      <td>61</td>\n",
       "    </tr>\n",
       "    <tr>\n",
       "      <th>44</th>\n",
       "      <td>Cagayan</td>\n",
       "      <td>59</td>\n",
       "    </tr>\n",
       "    <tr>\n",
       "      <th>76</th>\n",
       "      <td>Agusan del Sur</td>\n",
       "      <td>58</td>\n",
       "    </tr>\n",
       "    <tr>\n",
       "      <th>65</th>\n",
       "      <td>Misamis Oriental</td>\n",
       "      <td>57</td>\n",
       "    </tr>\n",
       "  </tbody>\n",
       "</table>\n",
       "</div>"
      ],
      "text/plain": [
       "                   Province  # Of Languages Reported\n",
       "15  National Capital Region                      121\n",
       "70            Davao del Sur                       86\n",
       "18                   Cavite                       83\n",
       "53                 Cotabato                       82\n",
       "11                  Palawan                       81\n",
       "74                 Bukidnon                       77\n",
       "49           South Cotabato                       76\n",
       "59        Zamboanga del Sur                       74\n",
       "41                  Isabela                       72\n",
       "71          Davao del Norte                       71\n",
       "9                     Rizal                       70\n",
       "26               Pangasinan                       69\n",
       "30              Maguindanao                       69\n",
       "34                 Pampanga                       64\n",
       "48           Sultan Kudarat                       62\n",
       "45                  Benguet                       62\n",
       "20                  Bulacan                       61\n",
       "44                  Cagayan                       59\n",
       "76           Agusan del Sur                       58\n",
       "65         Misamis Oriental                       57"
      ]
     },
     "metadata": {},
     "output_type": "display_data"
    }
   ],
   "source": [
    "multilingual_provinces = data_map_df[\n",
    "    [\"Province\", \"# Of Languages Reported\"]\n",
    "].sort_values(\"# Of Languages Reported\", ascending=False)\n",
    "\n",
    "print(\"Provinces with highest linguistic diversity:\")\n",
    "display(multilingual_provinces.head(20))"
   ]
  },
  {
   "cell_type": "code",
   "execution_count": 8,
   "id": "9bb81827",
   "metadata": {},
   "outputs": [
    {
     "data": {
      "application/vnd.microsoft.datawrangler.viewer.v0+json": {
       "columns": [
        {
         "name": "index",
         "rawType": "object",
         "type": "string"
        },
        {
         "name": "Bikolano",
         "rawType": "float64",
         "type": "float"
        },
        {
         "name": "Cebuano",
         "rawType": "float64",
         "type": "float"
        },
        {
         "name": "Chavacano",
         "rawType": "float64",
         "type": "float"
        },
        {
         "name": "Ilokano",
         "rawType": "float64",
         "type": "float"
        },
        {
         "name": "Isnag",
         "rawType": "float64",
         "type": "float"
        },
        {
         "name": "Ivatan",
         "rawType": "float64",
         "type": "float"
        },
        {
         "name": "Kalinga",
         "rawType": "float64",
         "type": "float"
        },
        {
         "name": "Kankanaey",
         "rawType": "float64",
         "type": "float"
        },
        {
         "name": "Kapampangan",
         "rawType": "float64",
         "type": "float"
        },
        {
         "name": "Pangasinense",
         "rawType": "float64",
         "type": "float"
        },
        {
         "name": "Sambal",
         "rawType": "float64",
         "type": "float"
        },
        {
         "name": "Spanish",
         "rawType": "float64",
         "type": "float"
        },
        {
         "name": "Tagalog",
         "rawType": "float64",
         "type": "float"
        },
        {
         "name": "Tausug",
         "rawType": "float64",
         "type": "float"
        },
        {
         "name": "Yakan",
         "rawType": "float64",
         "type": "float"
        },
        {
         "name": "Yami",
         "rawType": "float64",
         "type": "float"
        }
       ],
       "ref": "761ce7e1-7365-482d-abe7-59272db41666",
       "rows": [
        [
         "Bikolano",
         "1.0",
         "0.776",
         "0.306",
         "0.442",
         "0.526",
         "0.608",
         "0.64",
         "0.606",
         "0.579",
         "0.706",
         "0.685",
         "0.202",
         "0.78",
         "0.683",
         "0.515",
         "0.554"
        ],
        [
         "Cebuano",
         "0.776",
         "1.0",
         "0.294",
         "0.408",
         "0.485",
         "0.475",
         "0.49",
         "0.418",
         "0.607",
         "0.543",
         "0.506",
         "0.168",
         "0.917",
         "0.544",
         "0.421",
         "0.447"
        ],
        [
         "Chavacano",
         "0.306",
         "0.294",
         "1.0",
         "0.259",
         "0.335",
         "0.376",
         "0.309",
         "0.302",
         "0.204",
         "0.373",
         "0.362",
         "0.67",
         "0.275",
         "0.285",
         "0.259",
         "0.331"
        ],
        [
         "Ilokano",
         "0.442",
         "0.408",
         "0.259",
         "1.0",
         "0.444",
         "0.504",
         "0.429",
         "0.454",
         "0.346",
         "0.506",
         "0.483",
         "0.202",
         "0.41",
         "0.375",
         "0.307",
         "0.481"
        ],
        [
         "Isnag",
         "0.526",
         "0.485",
         "0.335",
         "0.444",
         "1.0",
         "0.493",
         "0.541",
         "0.565",
         "0.396",
         "0.544",
         "0.545",
         "0.168",
         "0.473",
         "0.508",
         "0.346",
         "0.463"
        ]
       ],
       "shape": {
        "columns": 16,
        "rows": 5
       }
      },
      "text/html": [
       "<div>\n",
       "<style scoped>\n",
       "    .dataframe tbody tr th:only-of-type {\n",
       "        vertical-align: middle;\n",
       "    }\n",
       "\n",
       "    .dataframe tbody tr th {\n",
       "        vertical-align: top;\n",
       "    }\n",
       "\n",
       "    .dataframe thead th {\n",
       "        text-align: right;\n",
       "    }\n",
       "</style>\n",
       "<table border=\"1\" class=\"dataframe\">\n",
       "  <thead>\n",
       "    <tr style=\"text-align: right;\">\n",
       "      <th></th>\n",
       "      <th>Bikolano</th>\n",
       "      <th>Cebuano</th>\n",
       "      <th>Chavacano</th>\n",
       "      <th>Ilokano</th>\n",
       "      <th>Isnag</th>\n",
       "      <th>Ivatan</th>\n",
       "      <th>Kalinga</th>\n",
       "      <th>Kankanaey</th>\n",
       "      <th>Kapampangan</th>\n",
       "      <th>Pangasinense</th>\n",
       "      <th>Sambal</th>\n",
       "      <th>Spanish</th>\n",
       "      <th>Tagalog</th>\n",
       "      <th>Tausug</th>\n",
       "      <th>Yakan</th>\n",
       "      <th>Yami</th>\n",
       "    </tr>\n",
       "  </thead>\n",
       "  <tbody>\n",
       "    <tr>\n",
       "      <th>Bikolano</th>\n",
       "      <td>1.000</td>\n",
       "      <td>0.776</td>\n",
       "      <td>0.306</td>\n",
       "      <td>0.442</td>\n",
       "      <td>0.526</td>\n",
       "      <td>0.608</td>\n",
       "      <td>0.640</td>\n",
       "      <td>0.606</td>\n",
       "      <td>0.579</td>\n",
       "      <td>0.706</td>\n",
       "      <td>0.685</td>\n",
       "      <td>0.202</td>\n",
       "      <td>0.780</td>\n",
       "      <td>0.683</td>\n",
       "      <td>0.515</td>\n",
       "      <td>0.554</td>\n",
       "    </tr>\n",
       "    <tr>\n",
       "      <th>Cebuano</th>\n",
       "      <td>0.776</td>\n",
       "      <td>1.000</td>\n",
       "      <td>0.294</td>\n",
       "      <td>0.408</td>\n",
       "      <td>0.485</td>\n",
       "      <td>0.475</td>\n",
       "      <td>0.490</td>\n",
       "      <td>0.418</td>\n",
       "      <td>0.607</td>\n",
       "      <td>0.543</td>\n",
       "      <td>0.506</td>\n",
       "      <td>0.168</td>\n",
       "      <td>0.917</td>\n",
       "      <td>0.544</td>\n",
       "      <td>0.421</td>\n",
       "      <td>0.447</td>\n",
       "    </tr>\n",
       "    <tr>\n",
       "      <th>Chavacano</th>\n",
       "      <td>0.306</td>\n",
       "      <td>0.294</td>\n",
       "      <td>1.000</td>\n",
       "      <td>0.259</td>\n",
       "      <td>0.335</td>\n",
       "      <td>0.376</td>\n",
       "      <td>0.309</td>\n",
       "      <td>0.302</td>\n",
       "      <td>0.204</td>\n",
       "      <td>0.373</td>\n",
       "      <td>0.362</td>\n",
       "      <td>0.670</td>\n",
       "      <td>0.275</td>\n",
       "      <td>0.285</td>\n",
       "      <td>0.259</td>\n",
       "      <td>0.331</td>\n",
       "    </tr>\n",
       "    <tr>\n",
       "      <th>Ilokano</th>\n",
       "      <td>0.442</td>\n",
       "      <td>0.408</td>\n",
       "      <td>0.259</td>\n",
       "      <td>1.000</td>\n",
       "      <td>0.444</td>\n",
       "      <td>0.504</td>\n",
       "      <td>0.429</td>\n",
       "      <td>0.454</td>\n",
       "      <td>0.346</td>\n",
       "      <td>0.506</td>\n",
       "      <td>0.483</td>\n",
       "      <td>0.202</td>\n",
       "      <td>0.410</td>\n",
       "      <td>0.375</td>\n",
       "      <td>0.307</td>\n",
       "      <td>0.481</td>\n",
       "    </tr>\n",
       "    <tr>\n",
       "      <th>Isnag</th>\n",
       "      <td>0.526</td>\n",
       "      <td>0.485</td>\n",
       "      <td>0.335</td>\n",
       "      <td>0.444</td>\n",
       "      <td>1.000</td>\n",
       "      <td>0.493</td>\n",
       "      <td>0.541</td>\n",
       "      <td>0.565</td>\n",
       "      <td>0.396</td>\n",
       "      <td>0.544</td>\n",
       "      <td>0.545</td>\n",
       "      <td>0.168</td>\n",
       "      <td>0.473</td>\n",
       "      <td>0.508</td>\n",
       "      <td>0.346</td>\n",
       "      <td>0.463</td>\n",
       "    </tr>\n",
       "  </tbody>\n",
       "</table>\n",
       "</div>"
      ],
      "text/plain": [
       "           Bikolano  Cebuano  Chavacano  Ilokano  Isnag  Ivatan  Kalinga  \\\n",
       "Bikolano      1.000    0.776      0.306    0.442  0.526   0.608    0.640   \n",
       "Cebuano       0.776    1.000      0.294    0.408  0.485   0.475    0.490   \n",
       "Chavacano     0.306    0.294      1.000    0.259  0.335   0.376    0.309   \n",
       "Ilokano       0.442    0.408      0.259    1.000  0.444   0.504    0.429   \n",
       "Isnag         0.526    0.485      0.335    0.444  1.000   0.493    0.541   \n",
       "\n",
       "           Kankanaey  Kapampangan  Pangasinense  Sambal  Spanish  Tagalog  \\\n",
       "Bikolano       0.606        0.579         0.706   0.685    0.202    0.780   \n",
       "Cebuano        0.418        0.607         0.543   0.506    0.168    0.917   \n",
       "Chavacano      0.302        0.204         0.373   0.362    0.670    0.275   \n",
       "Ilokano        0.454        0.346         0.506   0.483    0.202    0.410   \n",
       "Isnag          0.565        0.396         0.544   0.545    0.168    0.473   \n",
       "\n",
       "           Tausug  Yakan   Yami  \n",
       "Bikolano    0.683  0.515  0.554  \n",
       "Cebuano     0.544  0.421  0.447  \n",
       "Chavacano   0.285  0.259  0.331  \n",
       "Ilokano     0.375  0.307  0.481  \n",
       "Isnag       0.508  0.346  0.463  "
      ]
     },
     "execution_count": 8,
     "metadata": {},
     "output_type": "execute_result"
    }
   ],
   "source": [
    "data_sim_char_df = pd.read_csv(\n",
    "    \"../data/language_map/data_sim_char.csv\", sep=\",\", index_col=0, na_values=[\"NA\", \"\"]\n",
    ")\n",
    "\n",
    "data_sim_char_df.head()"
   ]
  },
  {
   "cell_type": "markdown",
   "id": "a397b3fd",
   "metadata": {},
   "source": [
    "## Language Similarity Matrices\n",
    "\n",
    "Here, we load and examine two types of language similarity matrices:\n",
    "1. Character-based similarity (`data_sim_char.csv`): Measures similarity based on character-level features\n",
    "2. Word-based similarity (`data_sim_word.csv`): Measures similarity based on word-level features\n",
    "\n",
    "These matrices will be used to compute province-to-province linguistic relationships."
   ]
  },
  {
   "cell_type": "code",
   "execution_count": 9,
   "id": "91646519",
   "metadata": {},
   "outputs": [
    {
     "data": {
      "application/vnd.microsoft.datawrangler.viewer.v0+json": {
       "columns": [
        {
         "name": "index",
         "rawType": "object",
         "type": "string"
        },
        {
         "name": "Bikolano",
         "rawType": "float64",
         "type": "float"
        },
        {
         "name": "Cebuano",
         "rawType": "float64",
         "type": "float"
        },
        {
         "name": "Chavacano",
         "rawType": "float64",
         "type": "float"
        },
        {
         "name": "Ilokano",
         "rawType": "float64",
         "type": "float"
        },
        {
         "name": "Isnag",
         "rawType": "float64",
         "type": "float"
        },
        {
         "name": "Ivatan",
         "rawType": "float64",
         "type": "float"
        },
        {
         "name": "Kalinga",
         "rawType": "float64",
         "type": "float"
        },
        {
         "name": "Kankanaey",
         "rawType": "float64",
         "type": "float"
        },
        {
         "name": "Kapampangan",
         "rawType": "float64",
         "type": "float"
        },
        {
         "name": "Pangasinense",
         "rawType": "float64",
         "type": "float"
        },
        {
         "name": "Sambal",
         "rawType": "float64",
         "type": "float"
        },
        {
         "name": "Spanish",
         "rawType": "float64",
         "type": "float"
        },
        {
         "name": "Tagalog",
         "rawType": "float64",
         "type": "float"
        },
        {
         "name": "Tausug",
         "rawType": "float64",
         "type": "float"
        },
        {
         "name": "Yakan",
         "rawType": "float64",
         "type": "float"
        },
        {
         "name": "Yami",
         "rawType": "float64",
         "type": "float"
        }
       ],
       "ref": "e7b7273e-c8d7-4d2d-ae39-7556482cdff2",
       "rows": [
        [
         "Bikolano",
         "1.0",
         "0.424",
         "0.107",
         "0.023",
         "0.182",
         "0.215",
         "0.223",
         "0.024",
         "0.175",
         "0.214",
         "0.202",
         "0.012",
         "0.453",
         "0.124",
         "0.063",
         "0.198"
        ],
        [
         "Cebuano",
         "0.424",
         "1.0",
         "0.025",
         "0.074",
         "0.14",
         "0.123",
         "0.026",
         "0.015",
         "0.022",
         "0.026",
         "0.026",
         "0.005",
         "0.643",
         "0.023",
         "0.049",
         "0.026"
        ],
        [
         "Chavacano",
         "0.107",
         "0.025",
         "1.0",
         "0.02",
         "0.263",
         "0.114",
         "0.14",
         "0.164",
         "0.142",
         "0.18",
         "0.162",
         "0.438",
         "0.08",
         "0.049",
         "0.098",
         "0.135"
        ],
        [
         "Ilokano",
         "0.023",
         "0.074",
         "0.02",
         "1.0",
         "0.102",
         "0.365",
         "0.012",
         "0.054",
         "0.161",
         "0.283",
         "0.371",
         "0.176",
         "0.029",
         "0.001",
         "0.001",
         "0.339"
        ],
        [
         "Isnag",
         "0.182",
         "0.14",
         "0.263",
         "0.102",
         "1.0",
         "0.163",
         "0.182",
         "0.362",
         "0.258",
         "0.261",
         "0.278",
         "0.056",
         "0.174",
         "0.108",
         "0.046",
         "0.2"
        ]
       ],
       "shape": {
        "columns": 16,
        "rows": 5
       }
      },
      "text/html": [
       "<div>\n",
       "<style scoped>\n",
       "    .dataframe tbody tr th:only-of-type {\n",
       "        vertical-align: middle;\n",
       "    }\n",
       "\n",
       "    .dataframe tbody tr th {\n",
       "        vertical-align: top;\n",
       "    }\n",
       "\n",
       "    .dataframe thead th {\n",
       "        text-align: right;\n",
       "    }\n",
       "</style>\n",
       "<table border=\"1\" class=\"dataframe\">\n",
       "  <thead>\n",
       "    <tr style=\"text-align: right;\">\n",
       "      <th></th>\n",
       "      <th>Bikolano</th>\n",
       "      <th>Cebuano</th>\n",
       "      <th>Chavacano</th>\n",
       "      <th>Ilokano</th>\n",
       "      <th>Isnag</th>\n",
       "      <th>Ivatan</th>\n",
       "      <th>Kalinga</th>\n",
       "      <th>Kankanaey</th>\n",
       "      <th>Kapampangan</th>\n",
       "      <th>Pangasinense</th>\n",
       "      <th>Sambal</th>\n",
       "      <th>Spanish</th>\n",
       "      <th>Tagalog</th>\n",
       "      <th>Tausug</th>\n",
       "      <th>Yakan</th>\n",
       "      <th>Yami</th>\n",
       "    </tr>\n",
       "  </thead>\n",
       "  <tbody>\n",
       "    <tr>\n",
       "      <th>Bikolano</th>\n",
       "      <td>1.000</td>\n",
       "      <td>0.424</td>\n",
       "      <td>0.107</td>\n",
       "      <td>0.023</td>\n",
       "      <td>0.182</td>\n",
       "      <td>0.215</td>\n",
       "      <td>0.223</td>\n",
       "      <td>0.024</td>\n",
       "      <td>0.175</td>\n",
       "      <td>0.214</td>\n",
       "      <td>0.202</td>\n",
       "      <td>0.012</td>\n",
       "      <td>0.453</td>\n",
       "      <td>0.124</td>\n",
       "      <td>0.063</td>\n",
       "      <td>0.198</td>\n",
       "    </tr>\n",
       "    <tr>\n",
       "      <th>Cebuano</th>\n",
       "      <td>0.424</td>\n",
       "      <td>1.000</td>\n",
       "      <td>0.025</td>\n",
       "      <td>0.074</td>\n",
       "      <td>0.140</td>\n",
       "      <td>0.123</td>\n",
       "      <td>0.026</td>\n",
       "      <td>0.015</td>\n",
       "      <td>0.022</td>\n",
       "      <td>0.026</td>\n",
       "      <td>0.026</td>\n",
       "      <td>0.005</td>\n",
       "      <td>0.643</td>\n",
       "      <td>0.023</td>\n",
       "      <td>0.049</td>\n",
       "      <td>0.026</td>\n",
       "    </tr>\n",
       "    <tr>\n",
       "      <th>Chavacano</th>\n",
       "      <td>0.107</td>\n",
       "      <td>0.025</td>\n",
       "      <td>1.000</td>\n",
       "      <td>0.020</td>\n",
       "      <td>0.263</td>\n",
       "      <td>0.114</td>\n",
       "      <td>0.140</td>\n",
       "      <td>0.164</td>\n",
       "      <td>0.142</td>\n",
       "      <td>0.180</td>\n",
       "      <td>0.162</td>\n",
       "      <td>0.438</td>\n",
       "      <td>0.080</td>\n",
       "      <td>0.049</td>\n",
       "      <td>0.098</td>\n",
       "      <td>0.135</td>\n",
       "    </tr>\n",
       "    <tr>\n",
       "      <th>Ilokano</th>\n",
       "      <td>0.023</td>\n",
       "      <td>0.074</td>\n",
       "      <td>0.020</td>\n",
       "      <td>1.000</td>\n",
       "      <td>0.102</td>\n",
       "      <td>0.365</td>\n",
       "      <td>0.012</td>\n",
       "      <td>0.054</td>\n",
       "      <td>0.161</td>\n",
       "      <td>0.283</td>\n",
       "      <td>0.371</td>\n",
       "      <td>0.176</td>\n",
       "      <td>0.029</td>\n",
       "      <td>0.001</td>\n",
       "      <td>0.001</td>\n",
       "      <td>0.339</td>\n",
       "    </tr>\n",
       "    <tr>\n",
       "      <th>Isnag</th>\n",
       "      <td>0.182</td>\n",
       "      <td>0.140</td>\n",
       "      <td>0.263</td>\n",
       "      <td>0.102</td>\n",
       "      <td>1.000</td>\n",
       "      <td>0.163</td>\n",
       "      <td>0.182</td>\n",
       "      <td>0.362</td>\n",
       "      <td>0.258</td>\n",
       "      <td>0.261</td>\n",
       "      <td>0.278</td>\n",
       "      <td>0.056</td>\n",
       "      <td>0.174</td>\n",
       "      <td>0.108</td>\n",
       "      <td>0.046</td>\n",
       "      <td>0.200</td>\n",
       "    </tr>\n",
       "  </tbody>\n",
       "</table>\n",
       "</div>"
      ],
      "text/plain": [
       "           Bikolano  Cebuano  Chavacano  Ilokano  Isnag  Ivatan  Kalinga  \\\n",
       "Bikolano      1.000    0.424      0.107    0.023  0.182   0.215    0.223   \n",
       "Cebuano       0.424    1.000      0.025    0.074  0.140   0.123    0.026   \n",
       "Chavacano     0.107    0.025      1.000    0.020  0.263   0.114    0.140   \n",
       "Ilokano       0.023    0.074      0.020    1.000  0.102   0.365    0.012   \n",
       "Isnag         0.182    0.140      0.263    0.102  1.000   0.163    0.182   \n",
       "\n",
       "           Kankanaey  Kapampangan  Pangasinense  Sambal  Spanish  Tagalog  \\\n",
       "Bikolano       0.024        0.175         0.214   0.202    0.012    0.453   \n",
       "Cebuano        0.015        0.022         0.026   0.026    0.005    0.643   \n",
       "Chavacano      0.164        0.142         0.180   0.162    0.438    0.080   \n",
       "Ilokano        0.054        0.161         0.283   0.371    0.176    0.029   \n",
       "Isnag          0.362        0.258         0.261   0.278    0.056    0.174   \n",
       "\n",
       "           Tausug  Yakan   Yami  \n",
       "Bikolano    0.124  0.063  0.198  \n",
       "Cebuano     0.023  0.049  0.026  \n",
       "Chavacano   0.049  0.098  0.135  \n",
       "Ilokano     0.001  0.001  0.339  \n",
       "Isnag       0.108  0.046  0.200  "
      ]
     },
     "execution_count": 9,
     "metadata": {},
     "output_type": "execute_result"
    }
   ],
   "source": [
    "data_sim_word_df = pd.read_csv(\n",
    "    \"../data/language_map/data_sim_word.csv\", sep=\",\", index_col=0, na_values=[\"NA\", \"\"]\n",
    ")\n",
    "\n",
    "data_sim_word_df.head()"
   ]
  },
  {
   "cell_type": "code",
   "execution_count": 10,
   "id": "08d07447",
   "metadata": {},
   "outputs": [
    {
     "name": "stdout",
     "output_type": "stream",
     "text": [
      "Province language profiles extracted successfully.\n",
      "[('Basilan', [('Yakan', 0.520910925), ('Tausug', 0.21130121), ('Chavacano', 0.074487896)]), ('Samar', [('Waray', 0.930268099), ('Bisaya/Binisaya', 0.036678637), ('Cebuano', 0.026179446)]), ('Northern Samar', [('Waray', 0.933084752), ('Cebuano', 0.026136164), ('Other Local Dialects', 0.02114406)])]\n",
      "Province-to-province linguistic similarity matrix computed.\n"
     ]
    },
    {
     "data": {
      "image/png": "[encoded data removed]",
      "text/plain": [
       "<Figure size 1000x800 with 2 Axes>"
      ]
     },
     "metadata": {},
     "output_type": "display_data"
    }
   ],
   "source": [
    "from itertools import product\n",
    "\n",
    "import matplotlib.pyplot as plt\n",
    "import numpy as np\n",
    "import pandas as pd\n",
    "import seaborn as sns\n",
    "from scipy.cluster.hierarchy import dendrogram, linkage\n",
    "\n",
    "# STEP 1 Build province-level language-weight profiles\n",
    "\n",
    "\n",
    "def extract_lang_profile(row):\n",
    "    \"\"\"Return [(language, weight), ...] for a province.\"\"\"\n",
    "    langs = [\n",
    "        (\n",
    "            row[\"Primary language generally spoken at home\"],\n",
    "            row[\"Primary language generally spoken at home (% of households)\"],\n",
    "        ),\n",
    "        (\n",
    "            row[\"2Nd Most Spoken Language At Home\"],\n",
    "            row[\"2Nd Most Spoken Language At Home (% Of Households)\"],\n",
    "        ),\n",
    "        (\n",
    "            row[\"3Rd Most Spoken Language At Home\"],\n",
    "            row[\"3Rd Most Spoken Language At Home (% Of Households)\"],\n",
    "        ),\n",
    "    ]\n",
    "    # keep only valid entries\n",
    "    return [\n",
    "        (lang, float(weight))\n",
    "        for lang, weight in langs\n",
    "        if isinstance(lang, str) and pd.notna(weight)\n",
    "    ]\n",
    "\n",
    "\n",
    "province_profiles = {\n",
    "    row[\"Province\"]: extract_lang_profile(row) for _, row in data_map_df.iterrows()\n",
    "}\n",
    "\n",
    "print(\"Province language profiles extracted successfully.\")\n",
    "print(list(province_profiles.items())[:3])\n",
    "\n",
    "# STEP 2 Compute province–province weighted linguistic similarity\n",
    "\n",
    "\n",
    "def province_similarity(profile_a, profile_b, sim_df):\n",
    "    \"\"\"Weighted mean of all language-to-language similarities.\"\"\"\n",
    "    if not profile_a or not profile_b:\n",
    "        return np.nan\n",
    "    num, denom = 0.0, 0.0\n",
    "    for (langA, wA), (langB, wB) in product(profile_a, profile_b):\n",
    "        if langA in sim_df.index and langB in sim_df.columns:\n",
    "            sim = sim_df.loc[langA, langB]\n",
    "            num += sim * wA * wB\n",
    "            denom += wA * wB\n",
    "    return num / denom if denom > 0 else np.nan\n",
    "\n",
    "\n",
    "provinces = list(province_profiles.keys())\n",
    "prov_sim_matrix = pd.DataFrame(index=provinces, columns=provinces, dtype=float)\n",
    "\n",
    "for p1 in provinces:\n",
    "    for p2 in provinces:\n",
    "        prov_sim_matrix.loc[p1, p2] = province_similarity(\n",
    "            province_profiles[p1], province_profiles[p2], data_sim_word_df\n",
    "        )\n",
    "\n",
    "print(\"Province-to-province linguistic similarity matrix computed.\")\n",
    "\n",
    "# STEP 3 Visualize heatmap\n",
    "\n",
    "plt.figure(figsize=(10, 8))\n",
    "sns.heatmap(prov_sim_matrix, cmap=\"YlGnBu\", linewidths=0.3)\n",
    "plt.title(\"Province-to-Province Linguistic Similarity\")\n",
    "plt.tight_layout()\n",
    "plt.show()\n",
    "\n",
    "# save matrix for later use\n",
    "prov_sim_matrix.to_csv(\"../data/language_map/province_similarity_matrix.csv\")"
   ]
  },
  {
   "cell_type": "markdown",
   "id": "5c11e61a",
   "metadata": {},
   "source": [
    "## Province-Level Language Profile and Similarity Analysis\n",
    "\n",
    "This section performs the core analysis:\n",
    "1. Building province-level language profiles with weights\n",
    "2. Computing province-to-province linguistic similarity using weighted averages\n",
    "3. Visualizing the similarity matrix as a heatmap\n",
    "4. Saving the computed similarity matrix for future use\n",
    "\n",
    "The similarity calculation considers both the presence of languages and their relative usage in each province."
   ]
  },
  {
   "cell_type": "code",
   "execution_count": 11,
   "id": "6117bfff",
   "metadata": {},
   "outputs": [
    {
     "name": "stdout",
     "output_type": "stream",
     "text": [
      "Top-k nearest linguistic neighbors:\n"
     ]
    },
    {
     "data": {
      "application/vnd.microsoft.datawrangler.viewer.v0+json": {
       "columns": [
        {
         "name": "index",
         "rawType": "int64",
         "type": "integer"
        },
        {
         "name": "Province",
         "rawType": "object",
         "type": "string"
        },
        {
         "name": "Neighbor",
         "rawType": "object",
         "type": "string"
        },
        {
         "name": "Similarity",
         "rawType": "float64",
         "type": "float"
        }
       ],
       "ref": "8c8208c8-5588-49b7-a7e7-46a79008b073",
       "rows": [
        [
         "0",
         "Basilan",
         "Sulu",
         "0.2922865313538087"
        ],
        [
         "1",
         "Basilan",
         "Tawi-Tawi",
         "0.2922865313538087"
        ],
        [
         "2",
         "Basilan",
         "City of Isabela",
         "0.23314602197523523"
        ],
        [
         "3",
         "Samar",
         "Northern Samar",
         "1.0"
        ],
        [
         "4",
         "Samar",
         "Leyte",
         "1.0"
        ],
        [
         "5",
         "Samar",
         "Compostela Valley",
         "1.0"
        ],
        [
         "6",
         "Northern Samar",
         "Samar",
         "1.0"
        ],
        [
         "7",
         "Northern Samar",
         "Leyte",
         "1.0"
        ],
        [
         "8",
         "Northern Samar",
         "Compostela Valley",
         "1.0"
        ],
        [
         "9",
         "Leyte",
         "Samar",
         "1.0"
        ]
       ],
       "shape": {
        "columns": 3,
        "rows": 10
       }
      },
      "text/html": [
       "<div>\n",
       "<style scoped>\n",
       "    .dataframe tbody tr th:only-of-type {\n",
       "        vertical-align: middle;\n",
       "    }\n",
       "\n",
       "    .dataframe tbody tr th {\n",
       "        vertical-align: top;\n",
       "    }\n",
       "\n",
       "    .dataframe thead th {\n",
       "        text-align: right;\n",
       "    }\n",
       "</style>\n",
       "<table border=\"1\" class=\"dataframe\">\n",
       "  <thead>\n",
       "    <tr style=\"text-align: right;\">\n",
       "      <th></th>\n",
       "      <th>Province</th>\n",
       "      <th>Neighbor</th>\n",
       "      <th>Similarity</th>\n",
       "    </tr>\n",
       "  </thead>\n",
       "  <tbody>\n",
       "    <tr>\n",
       "      <th>0</th>\n",
       "      <td>Basilan</td>\n",
       "      <td>Sulu</td>\n",
       "      <td>0.292287</td>\n",
       "    </tr>\n",
       "    <tr>\n",
       "      <th>1</th>\n",
       "      <td>Basilan</td>\n",
       "      <td>Tawi-Tawi</td>\n",
       "      <td>0.292287</td>\n",
       "    </tr>\n",
       "    <tr>\n",
       "      <th>2</th>\n",
       "      <td>Basilan</td>\n",
       "      <td>City of Isabela</td>\n",
       "      <td>0.233146</td>\n",
       "    </tr>\n",
       "    <tr>\n",
       "      <th>3</th>\n",
       "      <td>Samar</td>\n",
       "      <td>Northern Samar</td>\n",
       "      <td>1.000000</td>\n",
       "    </tr>\n",
       "    <tr>\n",
       "      <th>4</th>\n",
       "      <td>Samar</td>\n",
       "      <td>Leyte</td>\n",
       "      <td>1.000000</td>\n",
       "    </tr>\n",
       "    <tr>\n",
       "      <th>5</th>\n",
       "      <td>Samar</td>\n",
       "      <td>Compostela Valley</td>\n",
       "      <td>1.000000</td>\n",
       "    </tr>\n",
       "    <tr>\n",
       "      <th>6</th>\n",
       "      <td>Northern Samar</td>\n",
       "      <td>Samar</td>\n",
       "      <td>1.000000</td>\n",
       "    </tr>\n",
       "    <tr>\n",
       "      <th>7</th>\n",
       "      <td>Northern Samar</td>\n",
       "      <td>Leyte</td>\n",
       "      <td>1.000000</td>\n",
       "    </tr>\n",
       "    <tr>\n",
       "      <th>8</th>\n",
       "      <td>Northern Samar</td>\n",
       "      <td>Compostela Valley</td>\n",
       "      <td>1.000000</td>\n",
       "    </tr>\n",
       "    <tr>\n",
       "      <th>9</th>\n",
       "      <td>Leyte</td>\n",
       "      <td>Samar</td>\n",
       "      <td>1.000000</td>\n",
       "    </tr>\n",
       "  </tbody>\n",
       "</table>\n",
       "</div>"
      ],
      "text/plain": [
       "         Province           Neighbor  Similarity\n",
       "0         Basilan               Sulu    0.292287\n",
       "1         Basilan          Tawi-Tawi    0.292287\n",
       "2         Basilan    City of Isabela    0.233146\n",
       "3           Samar     Northern Samar    1.000000\n",
       "4           Samar              Leyte    1.000000\n",
       "5           Samar  Compostela Valley    1.000000\n",
       "6  Northern Samar              Samar    1.000000\n",
       "7  Northern Samar              Leyte    1.000000\n",
       "8  Northern Samar  Compostela Valley    1.000000\n",
       "9           Leyte              Samar    1.000000"
      ]
     },
     "metadata": {},
     "output_type": "display_data"
    },
    {
     "name": "stdout",
     "output_type": "stream",
     "text": [
      "Provinces with lowest average linguistic similarity:\n"
     ]
    },
    {
     "data": {
      "application/vnd.microsoft.datawrangler.viewer.v0+json": {
       "columns": [
        {
         "name": "index",
         "rawType": "object",
         "type": "string"
        },
        {
         "name": "0",
         "rawType": "float64",
         "type": "float"
        }
       ],
       "ref": "0aefb4f1-e53c-4f26-9e5b-ac7416186971",
       "rows": [
        [
         "Basilan",
         "0.07174451689268288"
        ],
        [
         "City of Isabela",
         "0.08810529919675648"
        ],
        [
         "Mountain Province",
         "0.09208347090690024"
        ],
        [
         "Ilocos Sur",
         "0.09208347090690024"
        ],
        [
         "Tawi-Tawi",
         "0.09284186834634493"
        ]
       ],
       "shape": {
        "columns": 1,
        "rows": 5
       }
      },
      "text/plain": [
       "Basilan              0.071745\n",
       "City of Isabela      0.088105\n",
       "Mountain Province    0.092083\n",
       "Ilocos Sur           0.092083\n",
       "Tawi-Tawi            0.092842\n",
       "dtype: float64"
      ]
     },
     "metadata": {},
     "output_type": "display_data"
    },
    {
     "data": {
      "image/png": "[encoded data removed]",
      "text/plain": [
       "<Figure size 1000x600 with 1 Axes>"
      ]
     },
     "metadata": {},
     "output_type": "display_data"
    }
   ],
   "source": [
    "k = 3  # number of top neighbors\n",
    "neighbors = []\n",
    "\n",
    "for province in prov_sim_matrix.index:\n",
    "    sims = prov_sim_matrix.loc[province].drop(province).dropna()\n",
    "    topk = sims.sort_values(ascending=False).head(k)\n",
    "    for neighbor, score in topk.items():\n",
    "        neighbors.append(\n",
    "            {\"Province\": province, \"Neighbor\": neighbor, \"Similarity\": score}\n",
    "        )\n",
    "\n",
    "neighbor_df = pd.DataFrame(neighbors)\n",
    "print(\"Top-k nearest linguistic neighbors:\")\n",
    "display(neighbor_df.head(10))\n",
    "\n",
    "# outliers (most unique provinces)\n",
    "avg_similarity = prov_sim_matrix.mean(axis=1)\n",
    "outliers = avg_similarity.sort_values().head(5)\n",
    "print(\"Provinces with lowest average linguistic similarity:\")\n",
    "display(outliers)\n",
    "\n",
    "# clustering view\n",
    "linkage_matrix = linkage(prov_sim_matrix.fillna(0), method=\"average\")\n",
    "plt.figure(figsize=(10, 6))\n",
    "dendrogram(linkage_matrix, labels=prov_sim_matrix.index, leaf_rotation=90)\n",
    "plt.title(\"Province Clustering by Linguistic Similarity\")\n",
    "plt.tight_layout()\n",
    "plt.show()"
   ]
  }
 ],
 "metadata": {
  "kernelspec": {
   "display_name": "philippine-language-clustering",
   "language": "python",
   "name": "python3"
  },
  "language_info": {
   "codemirror_mode": {
    "name": "ipython",
    "version": 3
   },
   "file_extension": ".py",
   "mimetype": "text/x-python",
   "name": "python",
   "nbconvert_exporter": "python",
   "pygments_lexer": "ipython3",
   "version": "3.13.5"
  }
 },
 "nbformat": 4,
 "nbformat_minor": 5
}
